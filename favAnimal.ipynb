{
  "nbformat": 4,
  "nbformat_minor": 0,
  "metadata": {
    "colab": {
      "provenance": [],
      "authorship_tag": "ABX9TyOVYvI9iAriLVzR5aeMlPlI",
      "include_colab_link": true
    },
    "kernelspec": {
      "name": "python3",
      "display_name": "Python 3"
    },
    "language_info": {
      "name": "python"
    }
  },
  "cells": [
    {
      "cell_type": "markdown",
      "metadata": {
        "id": "view-in-github",
        "colab_type": "text"
      },
      "source": [
        "<a href=\"https://colab.research.google.com/github/Ebad-akhtar/home-work-projects/blob/main/favAnimal.ipynb\" target=\"_parent\"><img src=\"https://colab.research.google.com/assets/colab-badge.svg\" alt=\"Open In Colab\"/></a>"
      ]
    },
    {
      "cell_type": "code",
      "execution_count": 1,
      "metadata": {
        "colab": {
          "base_uri": "https://localhost:8080/"
        },
        "id": "Ct_8hbofyR55",
        "outputId": "ba9c165b-7740-474f-9bed-f5df247b3d55"
      },
      "outputs": [
        {
          "output_type": "stream",
          "name": "stdout",
          "text": [
            "What is your favourite animal? Lion\n",
            "My favourite animal is Lion too.\n"
          ]
        }
      ],
      "source": [
        "favouriteAnimal = str(input(\"What is your favourite animal? \"))\n",
        "\n",
        "def main():\n",
        "    print(\"My favourite animal is\",favouriteAnimal, \"too.\")\n",
        "\n",
        "if __name__ == '__main__':\n",
        " main()"
      ]
    }
  ]
}